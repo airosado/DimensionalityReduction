{
 "cells": [
  {
   "cell_type": "code",
   "execution_count": 1,
   "metadata": {},
   "outputs": [],
   "source": [
    "import numpy as np\n",
    "import pandas as pd\n",
    "# allNeigh_L2"
   ]
  },
  {
   "cell_type": "code",
   "execution_count": 2,
   "metadata": {},
   "outputs": [],
   "source": [
    "allneighdf = pd.read_csv('~/Desktop/CLASSES/Fourth Year/BIOS26211/FinalProject/ourdata/allNeigh_L2.csv')\n"
   ]
  },
  {
   "cell_type": "code",
   "execution_count": 3,
   "metadata": {},
   "outputs": [
    {
     "name": "stdout",
     "output_type": "stream",
     "text": [
      "Mean Tau correlation for Latent:  PCA 50D  =  0.44\n",
      "Mean Tau correlation for Latent:  PCA 50D t-SNE  =  0.46\n",
      "Mean Tau correlation for Latent:  PCA 50D UMAP  =  0.25\n",
      "Mean Tau correlation for Latent:  PCA 100D  =  0.39\n",
      "Mean Tau correlation for Latent:  PCA 100D t-SNE  =  0.51\n",
      "Mean Tau correlation for Latent:  PCA 100D UMAP  =  0.35\n"
     ]
    }
   ],
   "source": [
    "latentdf = allneighdf['Latent']\n",
    "unique_latentls = latentdf.unique()\n",
    "meanls = []\n",
    "latentidxls = []\n",
    "for x in np.arange(len(unique_latentls)):\n",
    "    latentuniqueidx = unique_latentls[x]\n",
    "    meanvalls = [];\n",
    "    for i in np.arange(len(latentdf)):\n",
    "        latentidx = latentdf[i]\n",
    "        if latentidx == latentuniqueidx:\n",
    "            tauval = allneighdf['Tau'][i]\n",
    "            meanvalls.append(tauval)\n",
    "    mean = np.mean(meanvalls)\n",
    "    meanls.append(mean)\n",
    "    latentidxls.append(latentuniqueidx)\n",
    "    print('Mean Tau correlation for Latent: ', latentuniqueidx, ' = ', round(mean, 2))\n"
   ]
  },
  {
   "cell_type": "code",
   "execution_count": 4,
   "metadata": {},
   "outputs": [],
   "source": [
    "meanls = np.array(meanls)\n",
    "latentidxls = np.array(latentidxls)"
   ]
  },
  {
   "cell_type": "code",
   "execution_count": 5,
   "metadata": {},
   "outputs": [],
   "source": [
    "meandf = pd.DataFrame({'Latent': latentidxls, 'Mean Tau': meanls})\n",
    "meandf.to_csv('~/Desktop/CLASSES/Fourth Year/BIOS26211/FinalProject/meansL2.csv')"
   ]
  },
  {
   "cell_type": "code",
   "execution_count": null,
   "metadata": {},
   "outputs": [],
   "source": []
  }
 ],
 "metadata": {
  "kernelspec": {
   "display_name": "Python 3",
   "language": "python",
   "name": "python3"
  },
  "language_info": {
   "codemirror_mode": {
    "name": "ipython",
    "version": 3
   },
   "file_extension": ".py",
   "mimetype": "text/x-python",
   "name": "python",
   "nbconvert_exporter": "python",
   "pygments_lexer": "ipython3",
   "version": "3.9.13"
  },
  "orig_nbformat": 4,
  "vscode": {
   "interpreter": {
    "hash": "a00e64169624f20a0890c4bd1a8718caaca1c7c98590971df3eff8bcd744bc5f"
   }
  }
 },
 "nbformat": 4,
 "nbformat_minor": 2
}
